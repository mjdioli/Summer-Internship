{
 "cells": [
  {
   "cell_type": "code",
   "execution_count": 110,
   "metadata": {},
   "outputs": [],
   "source": [
    "#Importing necessary packages\n",
    "import pandas as pd\n",
    "import numpy as np\n",
    "import matplotlib.pyplot as plt\n",
    "import matplotlib.mlab as mlab\n",
    "import lightgbm as lgb\n",
    "import seaborn as sns\n",
    "from sklearn.preprocessing import OneHotEncoder\n",
    "from sklearn.model_selection import train_test_split\n",
    "from matplotlib import style"
   ]
  },
  {
   "cell_type": "code",
   "execution_count": 111,
   "metadata": {},
   "outputs": [],
   "source": [
    "#Import data\n",
    "path = \"/home/marius/Documents/Github projects/Summer-Internship/Time regression gbm\"\n",
    "\n",
    "data = pd.read_csv(path)"
   ]
  },
  {
   "cell_type": "code",
   "execution_count": 112,
   "metadata": {},
   "outputs": [],
   "source": [
    "data = data.drop(['Unnamed: 0'], axis = 1)"
   ]
  },
  {
   "cell_type": "code",
   "execution_count": 113,
   "metadata": {},
   "outputs": [
    {
     "data": {
      "text/plain": [
       "13"
      ]
     },
     "execution_count": 113,
     "metadata": {},
     "output_type": "execute_result"
    }
   ],
   "source": [
    "len(list(data))"
   ]
  },
  {
   "cell_type": "code",
   "execution_count": 114,
   "metadata": {},
   "outputs": [],
   "source": [
    "#One-hot encoding\n",
    "enc_data = pd.get_dummies(data)"
   ]
  },
  {
   "cell_type": "code",
   "execution_count": 115,
   "metadata": {},
   "outputs": [],
   "source": [
    "for i in range(7, 59):\n",
    "    enc_data.iloc[:, i] = enc_data.iloc[:, i].astype(int)"
   ]
  },
  {
   "cell_type": "code",
   "execution_count": 116,
   "metadata": {},
   "outputs": [],
   "source": [
    "x = enc_data.iloc[:, :-1]\n",
    "y = enc_data.iloc[:, -1]"
   ]
  },
  {
   "cell_type": "code",
   "execution_count": 117,
   "metadata": {},
   "outputs": [],
   "source": [
    "x, x_test, y, y_test = train_test_split(x, y, test_size=0.2)"
   ]
  },
  {
   "cell_type": "code",
   "execution_count": 118,
   "metadata": {},
   "outputs": [],
   "source": [
    "categoricals = ['Solution category_Change Request',\n",
    " 'Solution category_Data update',\n",
    " 'Solution category_Explanation',\n",
    " 'Solution category_Other ticket',\n",
    " 'Solution category_Parameter change',\n",
    " 'Solution category_Permissions',\n",
    " 'Solution category_Restart',\n",
    " 'Solution category_Software installation',\n",
    " 'Solution category_Software reset',\n",
    " 'Solution category_Unsolved',\n",
    " 'Solution category_Workaround',\n",
    " 'Close code_Not Solved (Cancelled by caller)',\n",
    " 'Close code_Not Solved (No reply from caller)',\n",
    " 'Close code_Not Solved (Not Reproducible)',\n",
    " 'Close code_Not Solved (Other ticket)',\n",
    " 'Close code_Solved (Permanently)',\n",
    " 'Close code_Solved (Work Around)',\n",
    " 'Escalation_Normal',\n",
    " 'Escalation_Overdue',\n",
    " 'Subcategory_Basis issue',\n",
    " 'Subcategory_Coding issue',\n",
    " 'Subcategory_Configuration issue',\n",
    " 'Subcategory_Connectivity',\n",
    " 'Subcategory_Deployment issue',\n",
    " 'Subcategory_Design issue (business)',\n",
    " 'Subcategory_Design issue (technical)',\n",
    " 'Subcategory_Enhancement request',\n",
    " 'Subcategory_Installation',\n",
    " 'Subcategory_Operating System',\n",
    " 'Subcategory_Peripherals',\n",
    " 'Subcategory_Permission',\n",
    " 'Subcategory_Regression impact',\n",
    " 'Subcategory_Server',\n",
    " 'Subcategory_Service request',\n",
    " 'Subcategory_Software Issue',\n",
    " 'Subcategory_System Administration',\n",
    " 'Subcategory_Technical issue',\n",
    " 'Subcategory_Training need',\n",
    " 'Service Area_SAP SVC - Contact Center',\n",
    " 'Service Area_SAP SVC - Service Execution',\n",
    " 'Service Area_SAP SVC - Service Management',\n",
    " 'Assignment group_ENT-IS-MOB-IFA',\n",
    " 'Assignment group_ENT-SAP-FIN',\n",
    " 'Assignment group_ENT-SAP-SAM',\n",
    " 'Assignment group_ENT-SAP-SCM',\n",
    " 'Assignment group_ENT-SAP-SCM-DOM',\n",
    " 'Assignment group_ENT-SAP-SCM-PLA',\n",
    " 'Assignment group_ENT-SAP-SCM-SOU',\n",
    " 'Assignment group_ENT-SAP-SVC',\n",
    " 'Assignment group_ENT-SAP-SVC-COC',\n",
    " 'Assignment group_ENT-SAP-SVC-EXE',\n",
    " 'Assignment group_ENT-SAP-SVC-MAN']"
   ]
  },
  {
   "cell_type": "code",
   "execution_count": 119,
   "metadata": {},
   "outputs": [],
   "source": [
    "for num in x.iloc[:, -1]:\n",
    "    if not isinstance(num, int):\n",
    "        print(\"nan\")"
   ]
  },
  {
   "cell_type": "code",
   "execution_count": 124,
   "metadata": {},
   "outputs": [],
   "source": [
    "train_data = lgb.Dataset(x, label = y)\n",
    "test_data = lgb.Dataset(x_test, label=y_test)"
   ]
  },
  {
   "cell_type": "code",
   "execution_count": 126,
   "metadata": {},
   "outputs": [],
   "source": [
    "parameters = {\n",
    "    'application': 'regression',\n",
    "    'objective': 'regression',\n",
    "    'metric': 'l2',\n",
    "    'is_unbalance': 'true',\n",
    "    'boosting': 'gbdt',\n",
    "    'num_leaves': 31,\n",
    "    'feature_fraction': 0.5,\n",
    "    'bagging_fraction': 0.5,\n",
    "    'bagging_freq': 20,\n",
    "    'learning_rate': 0.05,\n",
    "    'verbose': 0\n",
    "}\n"
   ]
  },
  {
   "cell_type": "code",
   "execution_count": 130,
   "metadata": {},
   "outputs": [],
   "source": [
    "model_nat = lgb.train(parameters,\n",
    "                       train_data,\n",
    "                       num_boost_round=100)"
   ]
  },
  {
   "cell_type": "code",
   "execution_count": null,
   "metadata": {},
   "outputs": [],
   "source": [
    "model_sans_outliers = "
   ]
  },
  {
   "cell_type": "code",
   "execution_count": null,
   "metadata": {},
   "outputs": [],
   "source": []
  }
 ],
 "metadata": {
  "kernelspec": {
   "display_name": "Python 3",
   "language": "python",
   "name": "python3"
  },
  "language_info": {
   "codemirror_mode": {
    "name": "ipython",
    "version": 3
   },
   "file_extension": ".py",
   "mimetype": "text/x-python",
   "name": "python",
   "nbconvert_exporter": "python",
   "pygments_lexer": "ipython3",
   "version": "3.6.8"
  }
 },
 "nbformat": 4,
 "nbformat_minor": 2
}
